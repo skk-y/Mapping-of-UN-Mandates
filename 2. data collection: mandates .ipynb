{
 "cells": [
  {
   "cell_type": "markdown",
   "metadata": {},
   "source": [
    "# Data Collection (2) "
   ]
  },
  {
   "cell_type": "markdown",
   "metadata": {},
   "source": [
    "Once we have collected a list of website of different UN entities, one would have to check if the website links to the \"mandates/ about us\" page. \n",
    "\n",
    "After checking and data cleaning, we start to scrape the text on the desire page. In this case, we are scraping text from various webpage with different structure. Therefore we would have to focus on scraping the 'p' tag.   "
   ]
  },
  {
   "cell_type": "code",
   "execution_count": 1,
   "metadata": {},
   "outputs": [],
   "source": [
    "import csv\n",
    "from urllib.request import urlopen\n",
    "import urllib.request\n",
    "import ssl\n",
    "import re\n",
    "import pandas as pd\n",
    "import requests\n",
    "from w3lib import html\n",
    "from lxml import etree\n",
    "\n",
    "url = \"https://protocol.un.org/dgacm/pls/site.nsf/ProtocolServices.xsp\"\n",
    "header = headers = {\n",
    "\"User-Agent\": \"Mozilla/5.0 (Macintosh; Intel Mac OS X 10_7_0) AppleWebKit/535.11 (KHTML, like Gecko) Chrome/17.0.963.56 Safari/535.11\"}\n",
    "\n",
    "\n",
    "request = urllib.request.Request(url, headers=header)\n",
    "res = urllib.request.urlopen(request)\n",
    "\n",
    "context = ssl._create_unverified_context()\n",
    "res = urllib.request.urlopen(request, context=context)\n",
    "\n",
    "from bs4 import BeautifulSoup\n",
    "\n",
    "    \n",
    "with open(\"datapure_only_urls.csv\", \"r\") as f_urls, open(\"mandate13.csv\", \"w\", newline=\"\") as f_output:\n",
    "    csv_output = csv.writer(f_output)\n",
    "    csv_output.writerow(['url', 'mandate'])\n",
    "\n",
    "    for url in f_urls:\n",
    "        url = url.strip()\n",
    "        html = requests.get(url).content\n",
    "        soup = BeautifulSoup(html, \"html.parser\")\n",
    "        b = soup.find_all('p')\n",
    "        b = str(b)\n",
    "        mandate = re.sub('<[^<]+?>', '', b).replace('\\n', '').strip()\n",
    "\n",
    "        csv_output.writerow([url, mandate])"
   ]
  },
  {
   "cell_type": "code",
   "execution_count": 2,
   "metadata": {},
   "outputs": [
    {
     "data": {
      "text/plain": [
       "<bound method NDFrame.head of                                                    url  \\\n",
       "0    http://www.unodc.org/unodc/en/commissions/CCPC...   \n",
       "1    http://www.unodc.org/unodc/en/commissions/CND/...   \n",
       "2    https://www.un.org/en/development/desa/populat...   \n",
       "3    https://unctad.org/en/Pages/CSTD/CSTD-Mandate....   \n",
       "4    https://www.un.org/development/desa/dspd/unite...   \n",
       "..                                                 ...   \n",
       "190  https://www.unog.ch/80256EDD006AC19C/(httpHome...   \n",
       "191  https://www.ohchr.org/EN/AboutUs/Pages/WhoWeAr...   \n",
       "192          https://eird.org/americas/we/mandate.html   \n",
       "193           https://unctad.org/en/Pages/aboutus.aspx   \n",
       "194                   https://unon.org/content/mandate   \n",
       "\n",
       "                                               mandate  \n",
       "0    [, The Commission on Crime Prevention and Crim...  \n",
       "1    [The Commission on Narcotic Drugs (CND) was es...  \n",
       "2    [A Population Commission was established by th...  \n",
       "3    [ , United Nations Conference on Trade and Dev...  \n",
       "4    [Since the World Summit for Social Development...  \n",
       "..                                                 ...  \n",
       "190  [, CONTACTS, FAQS, Housed at the Palais des Na...  \n",
       "191  [See all countries &gt;, The  Office of the Hi...  \n",
       "192  [The UN General Assembly adopted the Internati...  \n",
       "193  [Globalization, including a phenomenal expansi...  \n",
       "194  [The Director-General is responsible for all a...  \n",
       "\n",
       "[195 rows x 2 columns]>"
      ]
     },
     "execution_count": 2,
     "metadata": {},
     "output_type": "execute_result"
    }
   ],
   "source": [
    "import pandas as pd\n",
    "\n",
    "df = pd.read_csv(\"mandate13.csv\")\n",
    "\n",
    "df.head  #Here you can see the list of website of various UN entities and their mandate (text) respectively"
   ]
  },
  {
   "cell_type": "markdown",
   "metadata": {},
   "source": [
    "You could also add more columns like the name of the UN entitiy, type, UN Principal Organs etc."
   ]
  },
  {
   "cell_type": "code",
   "execution_count": 3,
   "metadata": {},
   "outputs": [],
   "source": [
    "# After adding more columns, use pandas to save the excel to csv to provide a clean csv file \n",
    "\n",
    "import pandas as pd\n",
    "data_xls = pd.read_excel('data_desire_final3.xlsx', index_col=None)\n",
    "data_xls.to_csv('your_csv1.csv', encoding='utf-8')\n"
   ]
  },
  {
   "cell_type": "code",
   "execution_count": 4,
   "metadata": {},
   "outputs": [
    {
     "data": {
      "text/plain": [
       "<bound method NDFrame.head of      Unnamed: 0                                                 UN  \\\n",
       "0             0                      Office of Legal Affairs (OLA)   \n",
       "1             1     Policy, Evaluation and Training Division (DPO)   \n",
       "2             2  Office of the High Representative for the Leas...   \n",
       "3             3             United Nations Administrative Tribunal   \n",
       "4             4  Central Planning and Coordination Division (DG...   \n",
       "..          ...                                                ...   \n",
       "189         189  Committee of Experts on Global Geospatial Info...   \n",
       "190         190              Development Coordination Office (DCO)   \n",
       "191         191  Office of the Special Representative of the Se...   \n",
       "192         192                    United Nations Office at Vienna   \n",
       "193         193                                 UN Global Compact    \n",
       "\n",
       "                                                  link UN Principal Organs  \\\n",
       "0                https://legal.un.org/ola/mission.aspx         SECRETARIAT   \n",
       "1    http://research.un.org/en/peacekeeping-communi...         SECRETARIAT   \n",
       "2                 http://unohrlls.org/about-un-ohrlls/         SECRETARIAT   \n",
       "3            http://untreaty.un.org/UNAT/main_page.htm         SECRETARIAT   \n",
       "4         http://www.un.org/Depts/DGACM/funccpcd.shtml         SECRETARIAT   \n",
       "..                                                 ...                 ...   \n",
       "189       https://ggim.un.org/UN-GGIM-Thematic-Groups/         SECRETARIAT   \n",
       "190  https://unsdg.un.org/about/development-coordin...         SECRETARIAT   \n",
       "191  https://violenceagainstchildren.un.org/content...         SECRETARIAT   \n",
       "192       https://www.unov.org/unov/en/about_unov.html         SECRETARIAT   \n",
       "193  https://www.unglobalcompact.org/about/governme...                  GA   \n",
       "\n",
       "                        type  \\\n",
       "0    departments and Offices   \n",
       "1    departments and Offices   \n",
       "2    departments and Offices   \n",
       "3    Internal Justice Bodies   \n",
       "4    departments and Offices   \n",
       "..                       ...   \n",
       "189  Departments and Offices   \n",
       "190  Departments and Offices   \n",
       "191  Departments and Offices   \n",
       "192  Departments and Offices   \n",
       "193             OTHER BODIES   \n",
       "\n",
       "                                               Mandate  \n",
       "0    Mission\\nTo provide a unified central legal se...  \n",
       "1    [In partnership with the United Nations Depart...  \n",
       "2    [About UN-OHRLLS, The United Nations Office of...  \n",
       "3    [,  , United Nations \\n\\t\\t\\tAdministrative Tr...  \n",
       "4    [The two major planks of the Departments confe...  \n",
       "..                                                 ...  \n",
       "189  The Committee of Experts on Global Geospatial ...  \n",
       "190  Global Coordination\\nThe United Nations Develo...  \n",
       "191  The SRSG is a global independent advocate in f...  \n",
       "192  UNOV manages and implements the United Nations...  \n",
       "193  The UN Global Compact enjoys the support of th...  \n",
       "\n",
       "[194 rows x 6 columns]>"
      ]
     },
     "execution_count": 4,
     "metadata": {},
     "output_type": "execute_result"
    }
   ],
   "source": [
    "#cleaned dataset \n",
    "\n",
    "df = pd.read_csv(\"your_csv1.csv\")\n",
    "\n",
    "df.head"
   ]
  },
  {
   "cell_type": "code",
   "execution_count": null,
   "metadata": {},
   "outputs": [],
   "source": []
  }
 ],
 "metadata": {
  "kernelspec": {
   "display_name": "Python 3",
   "language": "python",
   "name": "python3"
  },
  "language_info": {
   "codemirror_mode": {
    "name": "ipython",
    "version": 3
   },
   "file_extension": ".py",
   "mimetype": "text/x-python",
   "name": "python",
   "nbconvert_exporter": "python",
   "pygments_lexer": "ipython3",
   "version": "3.7.4"
  }
 },
 "nbformat": 4,
 "nbformat_minor": 2
}
